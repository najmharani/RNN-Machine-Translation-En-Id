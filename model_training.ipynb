{
 "cells": [
  {
   "cell_type": "code",
   "execution_count": 2,
   "id": "234d7d52",
   "metadata": {},
   "outputs": [
    {
     "name": "stdout",
     "output_type": "stream",
     "text": [
      "2.10.1\n"
     ]
    }
   ],
   "source": [
    "import tensorflow as tf\n",
    "print(tf.__version__)"
   ]
  },
  {
   "cell_type": "code",
   "execution_count": 3,
   "id": "0d4d74b0-4f6e-475a-97a1-16672c76dc85",
   "metadata": {},
   "outputs": [
    {
     "name": "stderr",
     "output_type": "stream",
     "text": [
      "C:\\Users\\nazuh\\.conda\\envs\\py310\\lib\\site-packages\\tqdm\\auto.py:21: TqdmWarning: IProgress not found. Please update jupyter and ipywidgets. See https://ipywidgets.readthedocs.io/en/stable/user_install.html\n",
      "  from .autonotebook import tqdm as notebook_tqdm\n"
     ]
    },
    {
     "data": {
      "text/html": [
       "<div>\n",
       "<style scoped>\n",
       "    .dataframe tbody tr th:only-of-type {\n",
       "        vertical-align: middle;\n",
       "    }\n",
       "\n",
       "    .dataframe tbody tr th {\n",
       "        vertical-align: top;\n",
       "    }\n",
       "\n",
       "    .dataframe thead th {\n",
       "        text-align: right;\n",
       "    }\n",
       "</style>\n",
       "<table border=\"1\" class=\"dataframe\">\n",
       "  <thead>\n",
       "    <tr style=\"text-align: right;\">\n",
       "      <th></th>\n",
       "      <th>translation</th>\n",
       "    </tr>\n",
       "  </thead>\n",
       "  <tbody>\n",
       "    <tr>\n",
       "      <th>0</th>\n",
       "      <td>{'en': 'Hmm. _', 'id': 'Hmm.'}</td>\n",
       "    </tr>\n",
       "    <tr>\n",
       "      <th>1</th>\n",
       "      <td>{'en': 'Back the fuck up!', 'id': 'Mundurlah, ...</td>\n",
       "    </tr>\n",
       "    <tr>\n",
       "      <th>2</th>\n",
       "      <td>{'en': 'Rebecca have a good think about it.', ...</td>\n",
       "    </tr>\n",
       "    <tr>\n",
       "      <th>3</th>\n",
       "      <td>{'en': 'You're wrong.', 'id': 'Kau salah.'}</td>\n",
       "    </tr>\n",
       "    <tr>\n",
       "      <th>4</th>\n",
       "      <td>{'en': 'Brook, what do you have to say for you...</td>\n",
       "    </tr>\n",
       "  </tbody>\n",
       "</table>\n",
       "</div>"
      ],
      "text/plain": [
       "                                         translation\n",
       "0                     {'en': 'Hmm. _', 'id': 'Hmm.'}\n",
       "1  {'en': 'Back the fuck up!', 'id': 'Mundurlah, ...\n",
       "2  {'en': 'Rebecca have a good think about it.', ...\n",
       "3        {'en': 'You're wrong.', 'id': 'Kau salah.'}\n",
       "4  {'en': 'Brook, what do you have to say for you..."
      ]
     },
     "execution_count": 3,
     "metadata": {},
     "output_type": "execute_result"
    }
   ],
   "source": [
    "import pandas as pd\n",
    "\n",
    "df_train = pd.read_parquet(\"hf://datasets/Helsinki-NLP/opus-100/en-id/train-00000-of-00001.parquet\")\n",
    "\n",
    "df_train.head()"
   ]
  },
  {
   "cell_type": "code",
   "execution_count": 4,
   "id": "100b28bf-e469-40d9-b3b1-1501c5ff25be",
   "metadata": {},
   "outputs": [
    {
     "name": "stdout",
     "output_type": "stream",
     "text": [
      "<class 'pandas.core.frame.DataFrame'>\n",
      "RangeIndex: 100000 entries, 0 to 99999\n",
      "Data columns (total 1 columns):\n",
      " #   Column       Non-Null Count   Dtype \n",
      "---  ------       --------------   ----- \n",
      " 0   translation  100000 non-null  object\n",
      "dtypes: object(1)\n",
      "memory usage: 781.4+ KB\n"
     ]
    }
   ],
   "source": [
    "num_of_data = 100000\n",
    "\n",
    "df_train_reduced = df_train.head(num_of_data)\n",
    "df_train_reduced.info()"
   ]
  },
  {
   "cell_type": "code",
   "execution_count": 5,
   "id": "f3e737d6-35be-4e71-9043-91514f6c31d4",
   "metadata": {},
   "outputs": [],
   "source": [
    "# Extract English and Indonesian train texts\n",
    "english_train = df_train_reduced['translation'].apply(lambda x: x['en']).tolist()\n",
    "indonesian_train = df_train_reduced['translation'].apply(lambda x: x['id']).tolist()"
   ]
  },
  {
   "cell_type": "code",
   "execution_count": 6,
   "id": "8b78bfab-0779-4f11-96c4-07542578007a",
   "metadata": {},
   "outputs": [
    {
     "name": "stdout",
     "output_type": "stream",
     "text": [
      "31245\n",
      "35276\n"
     ]
    }
   ],
   "source": [
    "from tensorflow.keras.preprocessing.text import Tokenizer\n",
    "\n",
    "# Tokenization\n",
    "english_tokenizer = Tokenizer()\n",
    "indonesian_tokenizer = Tokenizer()\n",
    "\n",
    "english_tokenizer.fit_on_texts(english_train)\n",
    "indonesian_tokenizer.fit_on_texts(indonesian_train)\n",
    "\n",
    "# Convert texts to sequences\n",
    "english_sequences = english_tokenizer.texts_to_sequences(english_train)\n",
    "indonesian_sequences = indonesian_tokenizer.texts_to_sequences(indonesian_train)\n",
    "\n",
    "english_vocab_size = len(english_tokenizer.word_index) + 1\n",
    "indonesian_vocab_size = len(indonesian_tokenizer.word_index) + 1\n",
    "\n",
    "print(english_vocab_size)\n",
    "print(indonesian_vocab_size)"
   ]
  },
  {
   "cell_type": "code",
   "execution_count": 7,
   "id": "d7690abd-7dc0-405c-918c-6d930506ff86",
   "metadata": {},
   "outputs": [
    {
     "name": "stdout",
     "output_type": "stream",
     "text": [
      "<class 'pandas.core.frame.DataFrame'>\n",
      "RangeIndex: 2000 entries, 0 to 1999\n",
      "Data columns (total 1 columns):\n",
      " #   Column       Non-Null Count  Dtype \n",
      "---  ------       --------------  ----- \n",
      " 0   translation  2000 non-null   object\n",
      "dtypes: object(1)\n",
      "memory usage: 15.8+ KB\n"
     ]
    }
   ],
   "source": [
    "df_validation = pd.read_parquet(\"hf://datasets/Helsinki-NLP/opus-100/en-id/validation-00000-of-00001.parquet\")\n",
    "\n",
    "df_validation.info()"
   ]
  },
  {
   "cell_type": "code",
   "execution_count": 8,
   "id": "b6c756dd-6c82-4361-99a6-28920b63e051",
   "metadata": {},
   "outputs": [],
   "source": [
    "num_of_data = 2000\n",
    "\n",
    "df_validation_reduced = df_validation.head(num_of_data)\n",
    "\n",
    "english_validation = df_validation_reduced['translation'].apply(lambda x: x['en']).tolist()\n",
    "indonesian_validation = df_validation_reduced['translation'].apply(lambda x: x['id']).tolist()\n",
    "\n",
    "# Prepare validation data in the same way\n",
    "validation_english_sequences = english_tokenizer.texts_to_sequences(english_validation)\n",
    "validation_indonesian_sequences = indonesian_tokenizer.texts_to_sequences(indonesian_validation)"
   ]
  },
  {
   "cell_type": "code",
   "execution_count": 9,
   "id": "e8ca2dc5-c0d1-48df-9c1d-b577dba5c448",
   "metadata": {},
   "outputs": [
    {
     "name": "stdout",
     "output_type": "stream",
     "text": [
      "Shape of input_sequences: (100000, 60)\n",
      "Shape of target_sequences: (100000, 60)\n",
      "Shape of validation_english_sequences: (2000, 60)\n",
      "Shape of validation_target_sequences: (2000, 60)\n",
      "60\n"
     ]
    }
   ],
   "source": [
    "from tensorflow.keras.preprocessing.sequence import pad_sequences\n",
    "\n",
    "# Define a consistent maximum sequence length based on the longest sequence in both datasets\n",
    "max_sequence_length = 60\n",
    "\n",
    "# Pad the English and Indonesian sequences for training to the same fixed maximum length\n",
    "english_sequences = pad_sequences(english_sequences, maxlen=max_sequence_length, padding='post')\n",
    "indonesian_sequences = pad_sequences(indonesian_sequences, maxlen=max_sequence_length, padding='post')\n",
    "\n",
    "# Pad the validation sequences to the same maximum sequence length\n",
    "validation_english_sequences = pad_sequences(validation_english_sequences, maxlen=max_sequence_length, padding='post')\n",
    "validation_indonesian_sequences = pad_sequences(validation_indonesian_sequences, maxlen=max_sequence_length, padding='post')\n",
    "\n",
    "# Check the shapes to confirm alignment\n",
    "print(\"Shape of input_sequences:\", english_sequences.shape)\n",
    "print(\"Shape of target_sequences:\", indonesian_sequences.shape)\n",
    "print(\"Shape of validation_english_sequences:\", validation_english_sequences.shape)\n",
    "print(\"Shape of validation_target_sequences:\", validation_indonesian_sequences.shape)\n",
    "print(max_sequence_length)"
   ]
  },
  {
   "cell_type": "code",
   "execution_count": 10,
   "id": "7cad0323-56c3-4be6-8491-9daa406aa815",
   "metadata": {},
   "outputs": [],
   "source": [
    "from tensorflow.keras.models import Sequential\n",
    "from tensorflow.keras.layers import Embedding, SimpleRNN, Dense\n",
    "\n",
    "# Define the Model\n",
    "embedding_dim = 64\n",
    "\n",
    "model = Sequential([\n",
    "    Embedding(input_dim=english_vocab_size, output_dim=embedding_dim, input_length=max_sequence_length),\n",
    "    SimpleRNN(64, return_sequences=True),\n",
    "    SimpleRNN(128, return_sequences=True),\n",
    "    Dense(indonesian_vocab_size, activation='softmax')\n",
    "])"
   ]
  },
  {
   "cell_type": "code",
   "execution_count": 13,
   "id": "8f09f348-9636-4ea3-a1c8-445ff38717f0",
   "metadata": {},
   "outputs": [],
   "source": [
    "from tensorflow.keras.callbacks import ModelCheckpoint\n",
    "from tensorflow.keras.callbacks import CSVLogger\n",
    "\n",
    "# Define the path for saving the model and logs\n",
    "path = \"C:/Kuliah/7Sem/NLP/RNN/models-100k-2k/\"\n",
    "\n",
    "checkpoint = ModelCheckpoint(path + 'modelrnn-2_layer-{epoch:02d}.keras', verbose=1, save_best_only=False)\n",
    "csv_logger = CSVLogger(path + \"log-hasil.csv\", append=True, separator=';')"
   ]
  },
  {
   "cell_type": "code",
   "execution_count": 14,
   "id": "94b61bae-ad34-4509-8704-b1a9feded826",
   "metadata": {},
   "outputs": [],
   "source": [
    "from tensorflow.keras.optimizers import Adam\n",
    "\n",
    "model.compile(optimizer=Adam(), loss='sparse_categorical_crossentropy', metrics=['accuracy'])"
   ]
  },
  {
   "cell_type": "code",
   "execution_count": 15,
   "id": "1893b920-d916-46fe-9d63-4cb4919a97e0",
   "metadata": {},
   "outputs": [
    {
     "name": "stdout",
     "output_type": "stream",
     "text": [
      "Epoch 1/10\n",
      "3125/3125 [==============================] - ETA: 0s - loss: 0.8315 - accuracy: 0.9086\n",
      "Epoch 1: saving model to C:/Kuliah/7Sem/NLP/RNN/models-100k-2k\\modelrnn-2_layer-01.keras\n",
      "3125/3125 [==============================] - 633s 201ms/step - loss: 0.8315 - accuracy: 0.9086 - val_loss: 0.7630 - val_accuracy: 0.9040\n",
      "Epoch 2/10\n",
      "3125/3125 [==============================] - ETA: 0s - loss: 0.6735 - accuracy: 0.9154\n",
      "Epoch 2: saving model to C:/Kuliah/7Sem/NLP/RNN/models-100k-2k\\modelrnn-2_layer-02.keras\n",
      "3125/3125 [==============================] - 632s 202ms/step - loss: 0.6735 - accuracy: 0.9154 - val_loss: 0.7328 - val_accuracy: 0.9069\n",
      "Epoch 3/10\n",
      "3125/3125 [==============================] - ETA: 0s - loss: 0.6310 - accuracy: 0.9176\n",
      "Epoch 3: saving model to C:/Kuliah/7Sem/NLP/RNN/models-100k-2k\\modelrnn-2_layer-03.keras\n",
      "3125/3125 [==============================] - 633s 203ms/step - loss: 0.6310 - accuracy: 0.9176 - val_loss: 0.7217 - val_accuracy: 0.9081\n",
      "Epoch 4/10\n",
      "3125/3125 [==============================] - ETA: 0s - loss: 0.6073 - accuracy: 0.9189\n",
      "Epoch 4: saving model to C:/Kuliah/7Sem/NLP/RNN/models-100k-2k\\modelrnn-2_layer-04.keras\n",
      "3125/3125 [==============================] - 637s 204ms/step - loss: 0.6073 - accuracy: 0.9189 - val_loss: 0.7185 - val_accuracy: 0.9090\n",
      "Epoch 5/10\n",
      "3125/3125 [==============================] - ETA: 0s - loss: 0.5802 - accuracy: 0.9201\n",
      "Epoch 5: saving model to C:/Kuliah/7Sem/NLP/RNN/models-100k-2k\\modelrnn-2_layer-05.keras\n",
      "3125/3125 [==============================] - 650s 208ms/step - loss: 0.5802 - accuracy: 0.9201 - val_loss: 0.7236 - val_accuracy: 0.9087\n",
      "Epoch 6/10\n",
      "3125/3125 [==============================] - ETA: 0s - loss: 0.5568 - accuracy: 0.9211\n",
      "Epoch 6: saving model to C:/Kuliah/7Sem/NLP/RNN/models-100k-2k\\modelrnn-2_layer-06.keras\n",
      "3125/3125 [==============================] - 643s 206ms/step - loss: 0.5568 - accuracy: 0.9211 - val_loss: 0.7151 - val_accuracy: 0.9091\n",
      "Epoch 7/10\n",
      "3125/3125 [==============================] - ETA: 0s - loss: 0.5453 - accuracy: 0.9218\n",
      "Epoch 7: saving model to C:/Kuliah/7Sem/NLP/RNN/models-100k-2k\\modelrnn-2_layer-07.keras\n",
      "3125/3125 [==============================] - 633s 203ms/step - loss: 0.5453 - accuracy: 0.9218 - val_loss: 0.7200 - val_accuracy: 0.9092\n",
      "Epoch 8/10\n",
      "3125/3125 [==============================] - ETA: 0s - loss: 0.5286 - accuracy: 0.9227\n",
      "Epoch 8: saving model to C:/Kuliah/7Sem/NLP/RNN/models-100k-2k\\modelrnn-2_layer-08.keras\n",
      "3125/3125 [==============================] - 630s 202ms/step - loss: 0.5286 - accuracy: 0.9227 - val_loss: 0.7186 - val_accuracy: 0.9092\n",
      "Epoch 9/10\n",
      "3125/3125 [==============================] - ETA: 0s - loss: 0.5141 - accuracy: 0.9236\n",
      "Epoch 9: saving model to C:/Kuliah/7Sem/NLP/RNN/models-100k-2k\\modelrnn-2_layer-09.keras\n",
      "3125/3125 [==============================] - 638s 204ms/step - loss: 0.5141 - accuracy: 0.9236 - val_loss: 0.7211 - val_accuracy: 0.9097\n",
      "Epoch 10/10\n",
      "3125/3125 [==============================] - ETA: 0s - loss: 0.5050 - accuracy: 0.9244\n",
      "Epoch 10: saving model to C:/Kuliah/7Sem/NLP/RNN/models-100k-2k\\modelrnn-2_layer-10.keras\n",
      "3125/3125 [==============================] - 645s 206ms/step - loss: 0.5050 - accuracy: 0.9244 - val_loss: 0.7332 - val_accuracy: 0.9089\n"
     ]
    }
   ],
   "source": [
    "# Train the Model\n",
    "epochs = 10\n",
    "batch_size = 32\n",
    "\n",
    "history = model.fit(\n",
    "    english_sequences, indonesian_sequences,\n",
    "    epochs=epochs,\n",
    "    batch_size=batch_size,\n",
    "    validation_data=(validation_english_sequences, validation_indonesian_sequences),\n",
    "    callbacks=[checkpoint, csv_logger]\n",
    ")"
   ]
  },
  {
   "cell_type": "code",
   "execution_count": 16,
   "id": "9030cf17-f69c-4faa-a6fe-8332e4403d8a",
   "metadata": {},
   "outputs": [
    {
     "data": {
      "image/png": "[encoded data removed]",
      "text/plain": [
       "<Figure size 640x480 with 1 Axes>"
      ]
     },
     "metadata": {},
     "output_type": "display_data"
    }
   ],
   "source": [
    "import matplotlib.pyplot as plt\n",
    "\n",
    "pd.DataFrame(history.history).plot()\n",
    "plt.title(\"Loss\")\n",
    "plt.show()"
   ]
  },
  {
   "cell_type": "code",
   "execution_count": 17,
   "id": "9ae126c0-82ca-4da6-a026-d85f07976fc7",
   "metadata": {},
   "outputs": [],
   "source": [
    "import numpy as np\n",
    "from nltk.translate.bleu_score import sentence_bleu, SmoothingFunction\n",
    "\n",
    "def bleu_score(input_data, output_data, input_tokenizer, output_tokenizer, model):\n",
    "    bleu_scores = []\n",
    "    smoothing_function = SmoothingFunction().method1  # Apply smoothing\n",
    "\n",
    "    for i in range(len(input_data)):\n",
    "        # Tokenize and pad single sentence\n",
    "        input_seq = input_tokenizer.texts_to_sequences([input_data[i]])\n",
    "        input_seq = pad_sequences(input_seq, maxlen=max_sequence_length, padding='post')\n",
    "        \n",
    "        # Predict for this single input\n",
    "        prediction = model.predict(input_seq)\n",
    "        \n",
    "        # Decode the prediction to text\n",
    "        predicted_seq = np.argmax(prediction[0], axis=-1)  # Use only the first (and only) batch element\n",
    "        predicted_text = ' '.join([output_tokenizer.index_word.get(idx, '') for idx in predicted_seq if idx != 0])\n",
    "        \n",
    "        # Get the reference text\n",
    "        reference_seq = output_tokenizer.texts_to_sequences([output_data[i]])\n",
    "        reference_seq = pad_sequences(reference_seq, maxlen=max_sequence_length, padding='post')\n",
    "        reference_text = ' '.join([output_tokenizer.index_word.get(idx, '') for idx in reference_seq[0] if idx != 0])\n",
    "        \n",
    "        # Tokenize the reference and predicted sentences\n",
    "        reference_tokens = [reference_text.split()]\n",
    "        predicted_tokens = predicted_text.split()\n",
    "        \n",
    "        # Calculate BLEU score for this sentence\n",
    "        bleu_score_value = sentence_bleu(reference_tokens, predicted_tokens, smoothing_function=smoothing_function)\n",
    "        bleu_scores.append(bleu_score_value)\n",
    "        \n",
    "        # Print predicted and reference text, and BLEU score for the current sentence\n",
    "        print(f\"Sentence {i + 1} Input Text: {input_data[i]}\")\n",
    "        print(f\"Sentence {i + 1} Predicted Text: {predicted_text}\")\n",
    "        print(f\"Sentence {i + 1} Reference Text: {reference_text}\")\n",
    "        print(f\"Sentence {i + 1} BLEU Score: {bleu_score_value:.4f}\")\n",
    "        print(\"-\" * 50)  # Separator for readability\n",
    "    \n",
    "    # Calculate the average BLEU score\n",
    "    avg_bleu_score = np.mean(bleu_scores)\n",
    "    print(f\"Average BLEU Score: {avg_bleu_score:.4f}\")\n"
   ]
  },
  {
   "cell_type": "code",
   "execution_count": 18,
   "id": "5f243733-eaf0-4b60-bdcd-fb620d29aa6b",
   "metadata": {},
   "outputs": [
    {
     "name": "stdout",
     "output_type": "stream",
     "text": [
      "<class 'pandas.core.frame.DataFrame'>\n",
      "RangeIndex: 2000 entries, 0 to 1999\n",
      "Data columns (total 1 columns):\n",
      " #   Column       Non-Null Count  Dtype \n",
      "---  ------       --------------  ----- \n",
      " 0   translation  2000 non-null   object\n",
      "dtypes: object(1)\n",
      "memory usage: 15.8+ KB\n"
     ]
    }
   ],
   "source": [
    "df_test = pd.read_parquet(\"hf://datasets/Helsinki-NLP/opus-100/en-id/test-00000-of-00001.parquet\")\n",
    "\n",
    "df_test.info()"
   ]
  },
  {
   "cell_type": "code",
   "execution_count": 19,
   "id": "2bed251e-dffd-4b40-b1de-5df7ee020ed0",
   "metadata": {},
   "outputs": [
    {
     "name": "stdout",
     "output_type": "stream",
     "text": [
      "<class 'pandas.core.frame.DataFrame'>\n",
      "RangeIndex: 20 entries, 0 to 19\n",
      "Data columns (total 1 columns):\n",
      " #   Column       Non-Null Count  Dtype \n",
      "---  ------       --------------  ----- \n",
      " 0   translation  20 non-null     object\n",
      "dtypes: object(1)\n",
      "memory usage: 288.0+ bytes\n"
     ]
    }
   ],
   "source": [
    "num_of_data = 20\n",
    "\n",
    "df_test_reduced = df_test.head(num_of_data)\n",
    "df_test_reduced.info()"
   ]
  },
  {
   "cell_type": "code",
   "execution_count": 20,
   "id": "16352c43-003e-4c7f-9380-39a0f75ca884",
   "metadata": {},
   "outputs": [
    {
     "name": "stdout",
     "output_type": "stream",
     "text": [
      "['He was on the run.', \"How d'ya like that, Spidey?\", '- Staff Sergeant, sir!', \"I'll be with her.\", 'Because of us, they will be ruined.']\n",
      "['Dia sedang dalam pelarian.', 'Bagaimana sekarang, Spidey?', '- Staf Sersan, Pak!', 'Aku akan bersamanya.', 'Karena kita, mereka akan hancur.']\n"
     ]
    }
   ],
   "source": [
    "english_test = df_test_reduced['translation'].apply(lambda x: x['en']).tolist()\n",
    "indonesian_test = df_test_reduced['translation'].apply(lambda x: x['id']).tolist()\n",
    "\n",
    "print(english_test[:5])\n",
    "print(indonesian_test[:5])"
   ]
  },
  {
   "cell_type": "code",
   "execution_count": 21,
   "id": "f6e96ddb-1c94-4d7f-82db-16d784b3e9fb",
   "metadata": {},
   "outputs": [
    {
     "name": "stdout",
     "output_type": "stream",
     "text": [
      "1/1 [==============================] - 0s 354ms/step\n",
      "Sentence 1 Input Text: He was on the run.\n",
      "Sentence 1 Predicted Text: dia adalah di\n",
      "Sentence 1 Reference Text: dia sedang dalam pelarian\n",
      "Sentence 1 BLEU Score: 0.0814\n",
      "--------------------------------------------------\n",
      "1/1 [==============================] - 0s 33ms/step\n",
      "Sentence 2 Input Text: How d'ya like that, Spidey?\n",
      "Sentence 2 Predicted Text: bagaimana dia suka\n",
      "Sentence 2 Reference Text: bagaimana sekarang\n",
      "Sentence 2 BLEU Score: 0.1136\n",
      "--------------------------------------------------\n",
      "1/1 [==============================] - 0s 38ms/step\n",
      "Sentence 3 Input Text: - Staff Sergeant, sir!\n",
      "Sentence 3 Predicted Text: lanjutkan bermain tuan\n",
      "Sentence 3 Reference Text: staf sersan pak\n",
      "Sentence 3 BLEU Score: 0.0000\n",
      "--------------------------------------------------\n",
      "1/1 [==============================] - 0s 52ms/step\n",
      "Sentence 4 Input Text: I'll be with her.\n",
      "Sentence 4 Predicted Text: aku akan dengan\n",
      "Sentence 4 Reference Text: aku akan bersamanya\n",
      "Sentence 4 BLEU Score: 0.2403\n",
      "--------------------------------------------------\n",
      "1/1 [==============================] - 0s 54ms/step\n",
      "Sentence 5 Input Text: Because of us, they will be ruined.\n",
      "Sentence 5 Predicted Text: karena tentu kita mereka menjadi\n",
      "Sentence 5 Reference Text: karena kita mereka akan hancur\n",
      "Sentence 5 BLEU Score: 0.1257\n",
      "--------------------------------------------------\n",
      "1/1 [==============================] - 0s 33ms/step\n",
      "Sentence 6 Input Text: - Now sit you down.\n",
      "Sentence 6 Predicted Text: sekarang duduklah kau\n",
      "Sentence 6 Reference Text: sekarang coba duduk\n",
      "Sentence 6 BLEU Score: 0.1136\n",
      "--------------------------------------------------\n",
      "1/1 [==============================] - 0s 34ms/step\n",
      "Sentence 7 Input Text: Okay, listen to me, Cole.\n",
      "Sentence 7 Predicted Text: oke dengar aku\n",
      "Sentence 7 Reference Text: oke dengarkan aku cole\n",
      "Sentence 7 BLEU Score: 0.0968\n",
      "--------------------------------------------------\n",
      "1/1 [==============================] - 0s 35ms/step\n",
      "Sentence 8 Input Text: - You're going to hell!\n",
      "Sentence 8 Predicted Text: kau akan ke\n",
      "Sentence 8 Reference Text: kau akan masuk neraka\n",
      "Sentence 8 BLEU Score: 0.1722\n",
      "--------------------------------------------------\n",
      "1/1 [==============================] - 0s 36ms/step\n",
      "Sentence 9 Input Text: Then perhaps I can be of assistance in a different way.\n",
      "Sentence 9 Predicted Text: lalu mungkin aku bisa bisa\n",
      "Sentence 9 Reference Text: mungkin aku bisa dengan cara lain\n",
      "Sentence 9 BLEU Score: 0.2177\n",
      "--------------------------------------------------\n",
      "1/1 [==============================] - 0s 52ms/step\n",
      "Sentence 10 Input Text: For the little kids.\n",
      "Sentence 10 Predicted Text: untuk saat\n",
      "Sentence 10 Reference Text: untuk anak anak kecil\n",
      "Sentence 10 BLEU Score: 0.0550\n",
      "--------------------------------------------------\n",
      "1/1 [==============================] - 0s 45ms/step\n",
      "Sentence 11 Input Text: You know negotiations are off to a bad start when people can't even agree on terms with their own side.\n",
      "Sentence 11 Predicted Text: kau tahu bisa\n",
      "Sentence 11 Reference Text: kau tahu negosiasi adalah ke awal yang buruk ketika orang bahkan tidak bisa setuju pada istilah dengan sisi mereka sendiri\n",
      "Sentence 11 BLEU Score: 0.0009\n",
      "--------------------------------------------------\n",
      "1/1 [==============================] - 0s 33ms/step\n",
      "Sentence 12 Input Text: The column the widget resides in\n",
      "Sentence 12 Predicted Text: the yang terbesar di\n",
      "Sentence 12 Reference Text: nomor kolom tempat berada\n",
      "Sentence 12 BLEU Score: 0.0000\n",
      "--------------------------------------------------\n",
      "1/1 [==============================] - 0s 52ms/step\n",
      "Sentence 13 Input Text: WARNING: We do NOT trust this key!\n",
      "Sentence 13 Predicted Text: peringatan kita kita lakukan percaya\n",
      "Sentence 13 Reference Text: peringatan kita tidak percaya kunci ini\n",
      "Sentence 13 BLEU Score: 0.1029\n",
      "--------------------------------------------------\n",
      "1/1 [==============================] - 0s 52ms/step\n",
      "Sentence 14 Input Text: That part was always easy. Till things go South.\n",
      "Sentence 14 Predicted Text: itu itu yang\n",
      "Sentence 14 Reference Text: bagian itu selalu mudah hingga berbagai masalah lenyap\n",
      "Sentence 14 BLEU Score: 0.0215\n",
      "--------------------------------------------------\n",
      "1/1 [==============================] - 0s 36ms/step\n",
      "Sentence 15 Input Text: It's about two dead kids.\n",
      "Sentence 15 Predicted Text: ini ini dua\n",
      "Sentence 15 Reference Text: ini tentang dua anak yang tewas\n",
      "Sentence 15 BLEU Score: 0.0497\n",
      "--------------------------------------------------\n",
      "1/1 [==============================] - 0s 52ms/step\n",
      "Sentence 16 Input Text: Does everybody see how he got there?\n",
      "Sentence 16 Predicted Text: apa semua yang bagaimana dia\n",
      "Sentence 16 Reference Text: apa ada di sini yang tahu bagaimana kita sampai di sana\n",
      "Sentence 16 BLEU Score: 0.0213\n",
      "--------------------------------------------------\n",
      "1/1 [==============================] - 0s 34ms/step\n",
      "Sentence 17 Input Text: Then I go to move them, they don't start.\n",
      "Sentence 17 Predicted Text: lalu aku pergi ke\n",
      "Sentence 17 Reference Text: lalu aku coba menjalankannya tapi tak mau menyala\n",
      "Sentence 17 BLEU Score: 0.0625\n",
      "--------------------------------------------------\n",
      "1/1 [==============================] - 0s 33ms/step\n",
      "Sentence 18 Input Text: Do you feel that every time you smoke pot?\n",
      "Sentence 18 Predicted Text: apa kau\n",
      "Sentence 18 Reference Text: apakah anda merasa bahwa setiap kali anda merokok pot\n",
      "Sentence 18 BLEU Score: 0.0000\n",
      "--------------------------------------------------\n",
      "1/1 [==============================] - 0s 53ms/step\n",
      "Sentence 19 Input Text: We get what we can.\n",
      "Sentence 19 Predicted Text: kita mendapatkan kita bisa\n",
      "Sentence 19 Reference Text: kita akan mengambil apa yang bisa di ambil\n",
      "Sentence 19 BLEU Score: 0.0351\n",
      "--------------------------------------------------\n",
      "1/1 [==============================] - 0s 41ms/step\n",
      "Sentence 20 Input Text: Yeah, in my kit.\n",
      "Sentence 20 Predicted Text: ya di\n",
      "Sentence 20 Reference Text: yah dalam tas\n",
      "Sentence 20 BLEU Score: 0.0000\n",
      "--------------------------------------------------\n",
      "Average BLEU Score: 0.0755\n"
     ]
    }
   ],
   "source": [
    "bleu_score(english_test, indonesian_test, english_tokenizer, indonesian_tokenizer, model)"
   ]
  },
  {
   "cell_type": "code",
   "execution_count": 22,
   "id": "c3d7d93d-6403-4bfd-9e54-872552ac36e3",
   "metadata": {},
   "outputs": [],
   "source": [
    "# Test the model with a sample input\n",
    "def translate_sentence(input_tokenizer, output_tokenizer, sentence, model):\n",
    "    seq = input_tokenizer.texts_to_sequences([sentence])\n",
    "    seq = pad_sequences(seq, maxlen=max_sequence_length, padding='post')\n",
    "    pred_seq = model.predict(seq)\n",
    "    pred_seq = np.argmax(pred_seq, axis=-1)\n",
    "    translated_words = [output_tokenizer.index_word.get(idx, '') for idx in pred_seq[0] if idx > 0]\n",
    "    return ' '.join(translated_words)"
   ]
  },
  {
   "cell_type": "code",
   "execution_count": 23,
   "id": "7f045ea6-b6b5-4a58-b4ee-192629c9e084",
   "metadata": {},
   "outputs": [
    {
     "name": "stdout",
     "output_type": "stream",
     "text": [
      "1/1 [==============================] - 0s 40ms/step\n",
      "bisa kita bermain sekarang\n"
     ]
    }
   ],
   "source": [
    "sentence = \"can we play now?\"\n",
    "\n",
    "print(translate_sentence(english_tokenizer, indonesian_tokenizer, sentence, model))"
   ]
  }
 ],
 "metadata": {
  "kernelspec": {
   "display_name": "Python 3 (ipykernel)",
   "language": "python",
   "name": "python3"
  },
  "language_info": {
   "codemirror_mode": {
    "name": "ipython",
    "version": 3
   },
   "file_extension": ".py",
   "mimetype": "text/x-python",
   "name": "python",
   "nbconvert_exporter": "python",
   "pygments_lexer": "ipython3",
   "version": "3.10.15"
  }
 },
 "nbformat": 4,
 "nbformat_minor": 5
}
